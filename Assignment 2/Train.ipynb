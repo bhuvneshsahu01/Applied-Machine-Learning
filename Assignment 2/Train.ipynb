{
 "cells": [
  {
   "cell_type": "markdown",
   "id": "bd286f33",
   "metadata": {},
   "source": [
    "## Bhuvnesh Sahu \n",
    "- MDS202316"
   ]
  },
  {
   "cell_type": "code",
   "execution_count": 2,
   "id": "96a60ef0",
   "metadata": {},
   "outputs": [
    {
     "name": "stdout",
     "output_type": "stream",
     "text": [
      "Collecting mlflow\n",
      "  Downloading mlflow-2.20.3-py3-none-any.whl.metadata (30 kB)\n",
      "Collecting mlflow-skinny==2.20.3 (from mlflow)\n",
      "  Downloading mlflow_skinny-2.20.3-py3-none-any.whl.metadata (31 kB)\n",
      "Collecting Flask<4 (from mlflow)\n",
      "  Downloading flask-3.1.0-py3-none-any.whl.metadata (2.7 kB)\n",
      "Requirement already satisfied: Jinja2<4,>=3.0 in c:\\users\\bhuvnesh's pc\\pycharmprojects\\pythonproject\\.venv\\lib\\site-packages (from mlflow) (3.1.3)\n",
      "Collecting alembic!=1.10.0,<2 (from mlflow)\n",
      "  Downloading alembic-1.14.1-py3-none-any.whl.metadata (7.4 kB)\n",
      "Collecting docker<8,>=4.0.0 (from mlflow)\n",
      "  Downloading docker-7.1.0-py3-none-any.whl.metadata (3.8 kB)\n",
      "Collecting graphene<4 (from mlflow)\n",
      "  Downloading graphene-3.4.3-py2.py3-none-any.whl.metadata (6.9 kB)\n",
      "Requirement already satisfied: markdown<4,>=3.3 in c:\\users\\bhuvnesh's pc\\pycharmprojects\\pythonproject\\.venv\\lib\\site-packages (from mlflow) (3.6)\n",
      "Requirement already satisfied: matplotlib<4 in c:\\users\\bhuvnesh's pc\\pycharmprojects\\pythonproject\\.venv\\lib\\site-packages (from mlflow) (3.8.3)\n",
      "Requirement already satisfied: numpy<3 in c:\\users\\bhuvnesh's pc\\pycharmprojects\\pythonproject\\.venv\\lib\\site-packages (from mlflow) (1.26.4)\n",
      "Requirement already satisfied: pandas<3 in c:\\users\\bhuvnesh's pc\\pycharmprojects\\pythonproject\\.venv\\lib\\site-packages (from mlflow) (2.2.1)\n",
      "Requirement already satisfied: pyarrow<20,>=4.0.0 in c:\\users\\bhuvnesh's pc\\pycharmprojects\\pythonproject\\.venv\\lib\\site-packages (from mlflow) (15.0.2)\n",
      "Requirement already satisfied: scikit-learn<2 in c:\\users\\bhuvnesh's pc\\pycharmprojects\\pythonproject\\.venv\\lib\\site-packages (from mlflow) (1.4.1.post1)\n",
      "Requirement already satisfied: scipy<2 in c:\\users\\bhuvnesh's pc\\pycharmprojects\\pythonproject\\.venv\\lib\\site-packages (from mlflow) (1.12.0)\n",
      "Requirement already satisfied: sqlalchemy<3,>=1.4.0 in c:\\users\\bhuvnesh's pc\\pycharmprojects\\pythonproject\\.venv\\lib\\site-packages (from mlflow) (2.0.29)\n",
      "Collecting waitress<4 (from mlflow)\n",
      "  Downloading waitress-3.0.2-py3-none-any.whl.metadata (5.8 kB)\n",
      "Requirement already satisfied: cachetools<6,>=5.0.0 in c:\\users\\bhuvnesh's pc\\pycharmprojects\\pythonproject\\.venv\\lib\\site-packages (from mlflow-skinny==2.20.3->mlflow) (5.3.3)\n",
      "Requirement already satisfied: click<9,>=7.0 in c:\\users\\bhuvnesh's pc\\pycharmprojects\\pythonproject\\.venv\\lib\\site-packages (from mlflow-skinny==2.20.3->mlflow) (8.1.7)\n",
      "Collecting cloudpickle<4 (from mlflow-skinny==2.20.3->mlflow)\n",
      "  Downloading cloudpickle-3.1.1-py3-none-any.whl.metadata (7.1 kB)\n",
      "Collecting databricks-sdk<1,>=0.20.0 (from mlflow-skinny==2.20.3->mlflow)\n",
      "  Downloading databricks_sdk-0.44.1-py3-none-any.whl.metadata (38 kB)\n",
      "Requirement already satisfied: gitpython<4,>=3.1.9 in c:\\users\\bhuvnesh's pc\\pycharmprojects\\pythonproject\\.venv\\lib\\site-packages (from mlflow-skinny==2.20.3->mlflow) (3.1.43)\n",
      "Requirement already satisfied: importlib_metadata!=4.7.0,<9,>=3.7.0 in c:\\users\\bhuvnesh's pc\\pycharmprojects\\pythonproject\\.venv\\lib\\site-packages (from mlflow-skinny==2.20.3->mlflow) (8.5.0)\n",
      "Requirement already satisfied: opentelemetry-api<3,>=1.9.0 in c:\\users\\bhuvnesh's pc\\pycharmprojects\\pythonproject\\.venv\\lib\\site-packages (from mlflow-skinny==2.20.3->mlflow) (1.29.0)\n",
      "Requirement already satisfied: opentelemetry-sdk<3,>=1.9.0 in c:\\users\\bhuvnesh's pc\\pycharmprojects\\pythonproject\\.venv\\lib\\site-packages (from mlflow-skinny==2.20.3->mlflow) (1.29.0)\n",
      "Requirement already satisfied: packaging<25 in c:\\users\\bhuvnesh's pc\\pycharmprojects\\pythonproject\\.venv\\lib\\site-packages (from mlflow-skinny==2.20.3->mlflow) (23.2)\n",
      "Requirement already satisfied: protobuf<6,>=3.12.0 in c:\\users\\bhuvnesh's pc\\pycharmprojects\\pythonproject\\.venv\\lib\\site-packages (from mlflow-skinny==2.20.3->mlflow) (5.29.3)\n",
      "Requirement already satisfied: pydantic<3,>=1.10.8 in c:\\users\\bhuvnesh's pc\\pycharmprojects\\pythonproject\\.venv\\lib\\site-packages (from mlflow-skinny==2.20.3->mlflow) (2.7.0)\n",
      "Requirement already satisfied: pyyaml<7,>=5.1 in c:\\users\\bhuvnesh's pc\\pycharmprojects\\pythonproject\\.venv\\lib\\site-packages (from mlflow-skinny==2.20.3->mlflow) (6.0.1)\n",
      "Requirement already satisfied: requests<3,>=2.17.3 in c:\\users\\bhuvnesh's pc\\pycharmprojects\\pythonproject\\.venv\\lib\\site-packages (from mlflow-skinny==2.20.3->mlflow) (2.31.0)\n",
      "Collecting sqlparse<1,>=0.4.0 (from mlflow-skinny==2.20.3->mlflow)\n",
      "  Downloading sqlparse-0.5.3-py3-none-any.whl.metadata (3.9 kB)\n",
      "Requirement already satisfied: typing-extensions<5,>=4.0.0 in c:\\users\\bhuvnesh's pc\\pycharmprojects\\pythonproject\\.venv\\lib\\site-packages (from mlflow-skinny==2.20.3->mlflow) (4.12.2)\n",
      "Collecting Mako (from alembic!=1.10.0,<2->mlflow)\n",
      "  Downloading Mako-1.3.9-py3-none-any.whl.metadata (2.9 kB)\n",
      "Requirement already satisfied: pywin32>=304 in c:\\users\\bhuvnesh's pc\\pycharmprojects\\pythonproject\\.venv\\lib\\site-packages (from docker<8,>=4.0.0->mlflow) (306)\n",
      "Requirement already satisfied: urllib3>=1.26.0 in c:\\users\\bhuvnesh's pc\\pycharmprojects\\pythonproject\\.venv\\lib\\site-packages (from docker<8,>=4.0.0->mlflow) (2.2.1)\n",
      "Collecting Werkzeug>=3.1 (from Flask<4->mlflow)\n",
      "  Downloading werkzeug-3.1.3-py3-none-any.whl.metadata (3.7 kB)\n",
      "Requirement already satisfied: itsdangerous>=2.2 in c:\\users\\bhuvnesh's pc\\pycharmprojects\\pythonproject\\.venv\\lib\\site-packages (from Flask<4->mlflow) (2.2.0)\n",
      "Collecting blinker>=1.9 (from Flask<4->mlflow)\n",
      "  Downloading blinker-1.9.0-py3-none-any.whl.metadata (1.6 kB)\n",
      "Collecting graphql-core<3.3,>=3.1 (from graphene<4->mlflow)\n",
      "  Downloading graphql_core-3.2.6-py3-none-any.whl.metadata (11 kB)\n",
      "Collecting graphql-relay<3.3,>=3.1 (from graphene<4->mlflow)\n",
      "  Downloading graphql_relay-3.2.0-py3-none-any.whl.metadata (12 kB)\n",
      "Requirement already satisfied: python-dateutil<3,>=2.7.0 in c:\\users\\bhuvnesh's pc\\pycharmprojects\\pythonproject\\.venv\\lib\\site-packages (from graphene<4->mlflow) (2.9.0.post0)\n",
      "Requirement already satisfied: MarkupSafe>=2.0 in c:\\users\\bhuvnesh's pc\\pycharmprojects\\pythonproject\\.venv\\lib\\site-packages (from Jinja2<4,>=3.0->mlflow) (2.1.5)\n",
      "Requirement already satisfied: contourpy>=1.0.1 in c:\\users\\bhuvnesh's pc\\pycharmprojects\\pythonproject\\.venv\\lib\\site-packages (from matplotlib<4->mlflow) (1.2.0)\n",
      "Requirement already satisfied: cycler>=0.10 in c:\\users\\bhuvnesh's pc\\pycharmprojects\\pythonproject\\.venv\\lib\\site-packages (from matplotlib<4->mlflow) (0.12.1)\n",
      "Requirement already satisfied: fonttools>=4.22.0 in c:\\users\\bhuvnesh's pc\\pycharmprojects\\pythonproject\\.venv\\lib\\site-packages (from matplotlib<4->mlflow) (4.50.0)\n",
      "Requirement already satisfied: kiwisolver>=1.3.1 in c:\\users\\bhuvnesh's pc\\pycharmprojects\\pythonproject\\.venv\\lib\\site-packages (from matplotlib<4->mlflow) (1.4.5)\n",
      "Requirement already satisfied: pillow>=8 in c:\\users\\bhuvnesh's pc\\pycharmprojects\\pythonproject\\.venv\\lib\\site-packages (from matplotlib<4->mlflow) (10.2.0)\n",
      "Requirement already satisfied: pyparsing>=2.3.1 in c:\\users\\bhuvnesh's pc\\pycharmprojects\\pythonproject\\.venv\\lib\\site-packages (from matplotlib<4->mlflow) (3.1.2)\n",
      "Requirement already satisfied: pytz>=2020.1 in c:\\users\\bhuvnesh's pc\\pycharmprojects\\pythonproject\\.venv\\lib\\site-packages (from pandas<3->mlflow) (2024.1)\n",
      "Requirement already satisfied: tzdata>=2022.7 in c:\\users\\bhuvnesh's pc\\pycharmprojects\\pythonproject\\.venv\\lib\\site-packages (from pandas<3->mlflow) (2024.1)\n",
      "Requirement already satisfied: joblib>=1.2.0 in c:\\users\\bhuvnesh's pc\\pycharmprojects\\pythonproject\\.venv\\lib\\site-packages (from scikit-learn<2->mlflow) (1.3.2)\n",
      "Requirement already satisfied: threadpoolctl>=2.0.0 in c:\\users\\bhuvnesh's pc\\pycharmprojects\\pythonproject\\.venv\\lib\\site-packages (from scikit-learn<2->mlflow) (3.4.0)\n",
      "Requirement already satisfied: greenlet!=0.4.17 in c:\\users\\bhuvnesh's pc\\pycharmprojects\\pythonproject\\.venv\\lib\\site-packages (from sqlalchemy<3,>=1.4.0->mlflow) (3.0.3)\n",
      "Requirement already satisfied: colorama in c:\\users\\bhuvnesh's pc\\pycharmprojects\\pythonproject\\.venv\\lib\\site-packages (from click<9,>=7.0->mlflow-skinny==2.20.3->mlflow) (0.4.6)\n",
      "Requirement already satisfied: google-auth~=2.0 in c:\\users\\bhuvnesh's pc\\pycharmprojects\\pythonproject\\.venv\\lib\\site-packages (from databricks-sdk<1,>=0.20.0->mlflow-skinny==2.20.3->mlflow) (2.37.0)\n",
      "Requirement already satisfied: gitdb<5,>=4.0.1 in c:\\users\\bhuvnesh's pc\\pycharmprojects\\pythonproject\\.venv\\lib\\site-packages (from gitpython<4,>=3.1.9->mlflow-skinny==2.20.3->mlflow) (4.0.11)\n",
      "Requirement already satisfied: zipp>=3.20 in c:\\users\\bhuvnesh's pc\\pycharmprojects\\pythonproject\\.venv\\lib\\site-packages (from importlib_metadata!=4.7.0,<9,>=3.7.0->mlflow-skinny==2.20.3->mlflow) (3.21.0)\n",
      "Requirement already satisfied: deprecated>=1.2.6 in c:\\users\\bhuvnesh's pc\\pycharmprojects\\pythonproject\\.venv\\lib\\site-packages (from opentelemetry-api<3,>=1.9.0->mlflow-skinny==2.20.3->mlflow) (1.2.15)\n",
      "Requirement already satisfied: opentelemetry-semantic-conventions==0.50b0 in c:\\users\\bhuvnesh's pc\\pycharmprojects\\pythonproject\\.venv\\lib\\site-packages (from opentelemetry-sdk<3,>=1.9.0->mlflow-skinny==2.20.3->mlflow) (0.50b0)\n",
      "Requirement already satisfied: annotated-types>=0.4.0 in c:\\users\\bhuvnesh's pc\\pycharmprojects\\pythonproject\\.venv\\lib\\site-packages (from pydantic<3,>=1.10.8->mlflow-skinny==2.20.3->mlflow) (0.6.0)\n",
      "Requirement already satisfied: pydantic-core==2.18.1 in c:\\users\\bhuvnesh's pc\\pycharmprojects\\pythonproject\\.venv\\lib\\site-packages (from pydantic<3,>=1.10.8->mlflow-skinny==2.20.3->mlflow) (2.18.1)\n",
      "Requirement already satisfied: six>=1.5 in c:\\users\\bhuvnesh's pc\\pycharmprojects\\pythonproject\\.venv\\lib\\site-packages (from python-dateutil<3,>=2.7.0->graphene<4->mlflow) (1.16.0)\n",
      "Requirement already satisfied: charset-normalizer<4,>=2 in c:\\users\\bhuvnesh's pc\\pycharmprojects\\pythonproject\\.venv\\lib\\site-packages (from requests<3,>=2.17.3->mlflow-skinny==2.20.3->mlflow) (3.3.2)\n",
      "Requirement already satisfied: idna<4,>=2.5 in c:\\users\\bhuvnesh's pc\\pycharmprojects\\pythonproject\\.venv\\lib\\site-packages (from requests<3,>=2.17.3->mlflow-skinny==2.20.3->mlflow) (3.6)\n",
      "Requirement already satisfied: certifi>=2017.4.17 in c:\\users\\bhuvnesh's pc\\pycharmprojects\\pythonproject\\.venv\\lib\\site-packages (from requests<3,>=2.17.3->mlflow-skinny==2.20.3->mlflow) (2024.2.2)\n",
      "Requirement already satisfied: wrapt<2,>=1.10 in c:\\users\\bhuvnesh's pc\\pycharmprojects\\pythonproject\\.venv\\lib\\site-packages (from deprecated>=1.2.6->opentelemetry-api<3,>=1.9.0->mlflow-skinny==2.20.3->mlflow) (1.16.0)\n",
      "Requirement already satisfied: smmap<6,>=3.0.1 in c:\\users\\bhuvnesh's pc\\pycharmprojects\\pythonproject\\.venv\\lib\\site-packages (from gitdb<5,>=4.0.1->gitpython<4,>=3.1.9->mlflow-skinny==2.20.3->mlflow) (5.0.1)\n",
      "Requirement already satisfied: pyasn1-modules>=0.2.1 in c:\\users\\bhuvnesh's pc\\pycharmprojects\\pythonproject\\.venv\\lib\\site-packages (from google-auth~=2.0->databricks-sdk<1,>=0.20.0->mlflow-skinny==2.20.3->mlflow) (0.4.1)\n",
      "Requirement already satisfied: rsa<5,>=3.1.4 in c:\\users\\bhuvnesh's pc\\pycharmprojects\\pythonproject\\.venv\\lib\\site-packages (from google-auth~=2.0->databricks-sdk<1,>=0.20.0->mlflow-skinny==2.20.3->mlflow) (4.9)\n",
      "Requirement already satisfied: pyasn1<0.7.0,>=0.4.6 in c:\\users\\bhuvnesh's pc\\pycharmprojects\\pythonproject\\.venv\\lib\\site-packages (from pyasn1-modules>=0.2.1->google-auth~=2.0->databricks-sdk<1,>=0.20.0->mlflow-skinny==2.20.3->mlflow) (0.6.0)\n",
      "Downloading mlflow-2.20.3-py3-none-any.whl (28.4 MB)\n",
      "   ---------------------------------------- 0.0/28.4 MB ? eta -:--:--\n",
      "   --- ------------------------------------ 2.6/28.4 MB 13.7 MB/s eta 0:00:02\n",
      "   ------ --------------------------------- 4.7/28.4 MB 14.2 MB/s eta 0:00:02\n",
      "   ----------- ---------------------------- 8.4/28.4 MB 14.1 MB/s eta 0:00:02\n",
      "   ----------------- ---------------------- 12.3/28.4 MB 15.1 MB/s eta 0:00:02\n",
      "   --------------------- ------------------ 15.5/28.4 MB 15.0 MB/s eta 0:00:01\n",
      "   --------------------------- ------------ 19.7/28.4 MB 16.1 MB/s eta 0:00:01\n",
      "   ---------------------------------- ----- 24.1/28.4 MB 16.8 MB/s eta 0:00:01\n",
      "   ---------------------------------------  28.0/28.4 MB 17.3 MB/s eta 0:00:01\n",
      "   ---------------------------------------- 28.4/28.4 MB 16.4 MB/s eta 0:00:00\n",
      "Downloading mlflow_skinny-2.20.3-py3-none-any.whl (6.0 MB)\n",
      "   ---------------------------------------- 0.0/6.0 MB ? eta -:--:--\n",
      "   ------------------------------- -------- 4.7/6.0 MB 22.0 MB/s eta 0:00:01\n",
      "   ---------------------------------------- 6.0/6.0 MB 21.6 MB/s eta 0:00:00\n",
      "Downloading alembic-1.14.1-py3-none-any.whl (233 kB)\n",
      "Downloading docker-7.1.0-py3-none-any.whl (147 kB)\n",
      "Downloading flask-3.1.0-py3-none-any.whl (102 kB)\n",
      "Downloading graphene-3.4.3-py2.py3-none-any.whl (114 kB)\n",
      "Downloading waitress-3.0.2-py3-none-any.whl (56 kB)\n",
      "Downloading blinker-1.9.0-py3-none-any.whl (8.5 kB)\n",
      "Downloading cloudpickle-3.1.1-py3-none-any.whl (20 kB)\n",
      "Downloading databricks_sdk-0.44.1-py3-none-any.whl (648 kB)\n",
      "   ---------------------------------------- 0.0/648.7 kB ? eta -:--:--\n",
      "   --------------------------------------- 648.7/648.7 kB 12.5 MB/s eta 0:00:00\n",
      "Downloading graphql_core-3.2.6-py3-none-any.whl (203 kB)\n",
      "Downloading graphql_relay-3.2.0-py3-none-any.whl (16 kB)\n",
      "Downloading sqlparse-0.5.3-py3-none-any.whl (44 kB)\n",
      "Downloading werkzeug-3.1.3-py3-none-any.whl (224 kB)\n",
      "Downloading Mako-1.3.9-py3-none-any.whl (78 kB)\n",
      "Installing collected packages: Werkzeug, waitress, sqlparse, Mako, graphql-core, cloudpickle, blinker, graphql-relay, Flask, docker, alembic, graphene, databricks-sdk, mlflow-skinny, mlflow\n",
      "  Attempting uninstall: Werkzeug\n",
      "    Found existing installation: Werkzeug 3.0.1\n",
      "    Uninstalling Werkzeug-3.0.1:\n",
      "      Successfully uninstalled Werkzeug-3.0.1\n",
      "  Attempting uninstall: blinker\n",
      "    Found existing installation: blinker 1.7.0\n",
      "    Uninstalling blinker-1.7.0:\n",
      "      Successfully uninstalled blinker-1.7.0\n",
      "Successfully installed Flask-3.1.0 Mako-1.3.9 Werkzeug-3.1.3 alembic-1.14.1 blinker-1.9.0 cloudpickle-3.1.1 databricks-sdk-0.44.1 docker-7.1.0 graphene-3.4.3 graphql-core-3.2.6 graphql-relay-3.2.0 mlflow-2.20.3 mlflow-skinny-2.20.3 sqlparse-0.5.3 waitress-3.0.2\n"
     ]
    },
    {
     "name": "stderr",
     "output_type": "stream",
     "text": [
      "ERROR: pip's dependency resolver does not currently take into account all the packages that are installed. This behaviour is the source of the following dependency conflicts.\n",
      "streamlit 1.33.0 requires protobuf<5,>=3.20, but you have protobuf 5.29.3 which is incompatible.\n",
      "tensorflow-intel 2.16.1 requires protobuf!=4.21.0,!=4.21.1,!=4.21.2,!=4.21.3,!=4.21.4,!=4.21.5,<5.0.0dev,>=3.20.3, but you have protobuf 5.29.3 which is incompatible.\n"
     ]
    }
   ],
   "source": [
    "!pip install mlflow"
   ]
  },
  {
   "cell_type": "markdown",
   "id": "b36ad40a",
   "metadata": {},
   "source": [
    "## Checking mlflow "
   ]
  },
  {
   "cell_type": "code",
   "execution_count": 4,
   "id": "ddfa8336",
   "metadata": {},
   "outputs": [
    {
     "data": {
      "text/plain": [
       "'2.20.3'"
      ]
     },
     "execution_count": 4,
     "metadata": {},
     "output_type": "execute_result"
    }
   ],
   "source": [
    "import mlflow\n",
    "mlflow.__version__"
   ]
  },
  {
   "cell_type": "code",
   "execution_count": 20,
   "id": "8561613e",
   "metadata": {},
   "outputs": [],
   "source": [
    "import pandas as pd\n",
    "import os\n",
    "import mlflow\n",
    "import matplotlib.pyplot as plt\n",
    "import numpy as np\n",
    "from sklearn.metrics import precision_recall_curve, auc\n",
    "from sklearn.feature_extraction.text import TfidfVectorizer\n",
    "from sklearn.metrics import accuracy_score, precision_score, recall_score, classification_report, auc, precision_recall_curve\n",
    "from sklearn.naive_bayes import MultinomialNB\n",
    "from sklearn.ensemble import RandomForestClassifier\n",
    "from sklearn.linear_model import LogisticRegression\n",
    "from sklearn.svm import SVC\n",
    "from sklearn.model_selection import GridSearchCV\n",
    "import mlflow.sklearn\n",
    "from mlflow.models import ModelSignature\n",
    "from mlflow.models.signature import infer_signature\n",
    "\n",
    "\n",
    "import warnings\n",
    "warnings.filterwarnings(\"ignore\")"
   ]
  },
  {
   "cell_type": "code",
   "execution_count": 2,
   "id": "fe89dfa3",
   "metadata": {},
   "outputs": [
    {
     "name": "stderr",
     "output_type": "stream",
     "text": [
      "2025/03/04 22:19:54 INFO mlflow.tracking.fluent: Experiment with name 'Spam Classifier Experiment' does not exist. Creating a new experiment.\n"
     ]
    },
    {
     "data": {
      "text/plain": [
       "<Experiment: artifact_location=(\"file:///C:/Users/Bhuvnesh's PC/PycharmProjects/pythonProject/AML/Assignment \"\n",
       " '2/runs/211292194086779681'), creation_time=1741106994571, experiment_id='211292194086779681', last_update_time=1741106994571, lifecycle_stage='active', name='Spam Classifier Experiment', tags={}>"
      ]
     },
     "execution_count": 2,
     "metadata": {},
     "output_type": "execute_result"
    }
   ],
   "source": [
    "mlflow.set_tracking_uri('file:runs')  # Local directory for tracking\n",
    "mlflow.set_experiment('Spam Classifier Experiment')"
   ]
  },
  {
   "cell_type": "markdown",
   "id": "64a4390f",
   "metadata": {},
   "source": [
    "## Import Data"
   ]
  },
  {
   "cell_type": "code",
   "execution_count": 3,
   "id": "f0c9e050",
   "metadata": {},
   "outputs": [],
   "source": [
    "# Load data splits\n",
    "train = pd.read_csv('train.csv').dropna()\n",
    "validation = pd.read_csv('validation.csv').dropna()\n",
    "test = pd.read_csv('test.csv').dropna()"
   ]
  },
  {
   "cell_type": "code",
   "execution_count": 4,
   "id": "a4e9b1fa",
   "metadata": {},
   "outputs": [
    {
     "data": {
      "text/html": [
       "<div>\n",
       "<style scoped>\n",
       "    .dataframe tbody tr th:only-of-type {\n",
       "        vertical-align: middle;\n",
       "    }\n",
       "\n",
       "    .dataframe tbody tr th {\n",
       "        vertical-align: top;\n",
       "    }\n",
       "\n",
       "    .dataframe thead th {\n",
       "        text-align: right;\n",
       "    }\n",
       "</style>\n",
       "<table border=\"1\" class=\"dataframe\">\n",
       "  <thead>\n",
       "    <tr style=\"text-align: right;\">\n",
       "      <th></th>\n",
       "      <th>target</th>\n",
       "      <th>num_characters</th>\n",
       "      <th>num_words</th>\n",
       "      <th>text</th>\n",
       "    </tr>\n",
       "  </thead>\n",
       "  <tbody>\n",
       "    <tr>\n",
       "      <th>0</th>\n",
       "      <td>0</td>\n",
       "      <td>80</td>\n",
       "      <td>18</td>\n",
       "      <td>gr8 so how do you handl the victoria island tr...</td>\n",
       "    </tr>\n",
       "    <tr>\n",
       "      <th>1</th>\n",
       "      <td>0</td>\n",
       "      <td>19</td>\n",
       "      <td>5</td>\n",
       "      <td>who are you see</td>\n",
       "    </tr>\n",
       "    <tr>\n",
       "      <th>2</th>\n",
       "      <td>1</td>\n",
       "      <td>129</td>\n",
       "      <td>27</td>\n",
       "      <td>ever thought about live a good life with a per...</td>\n",
       "    </tr>\n",
       "    <tr>\n",
       "      <th>3</th>\n",
       "      <td>1</td>\n",
       "      <td>162</td>\n",
       "      <td>29</td>\n",
       "      <td>eeri nokia tone 4u rpli tone titl to 8007 eg t...</td>\n",
       "    </tr>\n",
       "    <tr>\n",
       "      <th>4</th>\n",
       "      <td>1</td>\n",
       "      <td>138</td>\n",
       "      <td>33</td>\n",
       "      <td>wow the boy r back take that 2007 uk tour win ...</td>\n",
       "    </tr>\n",
       "    <tr>\n",
       "      <th>...</th>\n",
       "      <td>...</td>\n",
       "      <td>...</td>\n",
       "      <td>...</td>\n",
       "      <td>...</td>\n",
       "    </tr>\n",
       "    <tr>\n",
       "      <th>3716</th>\n",
       "      <td>0</td>\n",
       "      <td>124</td>\n",
       "      <td>33</td>\n",
       "      <td>i career tel have ad u as a contact on to send...</td>\n",
       "    </tr>\n",
       "    <tr>\n",
       "      <th>3717</th>\n",
       "      <td>0</td>\n",
       "      <td>82</td>\n",
       "      <td>19</td>\n",
       "      <td>reali do recognis thi number and am now confus...</td>\n",
       "    </tr>\n",
       "    <tr>\n",
       "      <th>3718</th>\n",
       "      <td>0</td>\n",
       "      <td>85</td>\n",
       "      <td>22</td>\n",
       "      <td>my new year eve wa i went to a parti with my b...</td>\n",
       "    </tr>\n",
       "    <tr>\n",
       "      <th>3719</th>\n",
       "      <td>0</td>\n",
       "      <td>45</td>\n",
       "      <td>9</td>\n",
       "      <td>i been tri to reach him without success</td>\n",
       "    </tr>\n",
       "    <tr>\n",
       "      <th>3720</th>\n",
       "      <td>0</td>\n",
       "      <td>44</td>\n",
       "      <td>10</td>\n",
       "      <td>lol wtf random btw is that your lunch break</td>\n",
       "    </tr>\n",
       "  </tbody>\n",
       "</table>\n",
       "<p>3717 rows × 4 columns</p>\n",
       "</div>"
      ],
      "text/plain": [
       "      target  num_characters  num_words  \\\n",
       "0          0              80         18   \n",
       "1          0              19          5   \n",
       "2          1             129         27   \n",
       "3          1             162         29   \n",
       "4          1             138         33   \n",
       "...      ...             ...        ...   \n",
       "3716       0             124         33   \n",
       "3717       0              82         19   \n",
       "3718       0              85         22   \n",
       "3719       0              45          9   \n",
       "3720       0              44         10   \n",
       "\n",
       "                                                   text  \n",
       "0     gr8 so how do you handl the victoria island tr...  \n",
       "1                                       who are you see  \n",
       "2     ever thought about live a good life with a per...  \n",
       "3     eeri nokia tone 4u rpli tone titl to 8007 eg t...  \n",
       "4     wow the boy r back take that 2007 uk tour win ...  \n",
       "...                                                 ...  \n",
       "3716  i career tel have ad u as a contact on to send...  \n",
       "3717  reali do recognis thi number and am now confus...  \n",
       "3718  my new year eve wa i went to a parti with my b...  \n",
       "3719            i been tri to reach him without success  \n",
       "3720        lol wtf random btw is that your lunch break  \n",
       "\n",
       "[3717 rows x 4 columns]"
      ]
     },
     "execution_count": 4,
     "metadata": {},
     "output_type": "execute_result"
    }
   ],
   "source": [
    "train"
   ]
  },
  {
   "cell_type": "code",
   "execution_count": 6,
   "id": "a6de3b28",
   "metadata": {},
   "outputs": [
    {
     "data": {
      "text/plain": [
       "target            0\n",
       "num_characters    0\n",
       "num_words         0\n",
       "text              0\n",
       "dtype: int64"
      ]
     },
     "execution_count": 6,
     "metadata": {},
     "output_type": "execute_result"
    }
   ],
   "source": [
    "train.isnull().sum()"
   ]
  },
  {
   "cell_type": "code",
   "execution_count": 7,
   "id": "6e7bb4da",
   "metadata": {},
   "outputs": [],
   "source": [
    "# Function to transform text data using TF-IDF\n",
    "def transform_text_tfidf(train, valid, test):\n",
    "    tfidf = TfidfVectorizer(max_features=5000, stop_words='english')\n",
    "    \n",
    "    train_vectors = tfidf.fit_transform(train['text'])\n",
    "    valid_vectors = tfidf.transform(valid['text'])\n",
    "    test_vectors = tfidf.transform(test['text'])\n",
    "    \n",
    "    return train_vectors, valid_vectors, test_vectors, tfidf"
   ]
  },
  {
   "cell_type": "code",
   "execution_count": 8,
   "id": "9c2d347c",
   "metadata": {},
   "outputs": [],
   "source": [
    "X_train, X_validation, X_test, vectorizer = transform_text_tfidf(train, validation, test)\n"
   ]
  },
  {
   "cell_type": "code",
   "execution_count": 9,
   "id": "cde88f26",
   "metadata": {},
   "outputs": [],
   "source": [
    "# Function to compute AUCPR for a given model\n",
    "def compute_aucpr(model, features, true_labels):\n",
    "    if hasattr(model, \"predict_proba\"):\n",
    "        scores = model.predict_proba(features)[:, 1]\n",
    "    else:\n",
    "        scores = model.decision_function(features)\n",
    "\n",
    "    prec, rec, _ = precision_recall_curve(true_labels, scores, pos_label=1)\n",
    "    auc_pr = auc(rec, prec)\n",
    "\n",
    "    return auc_pr\n"
   ]
  },
  {
   "cell_type": "code",
   "execution_count": 10,
   "id": "c0a05d88",
   "metadata": {},
   "outputs": [],
   "source": [
    "# Function to assess model performance\n",
    "def assess_model_performance(estimator, features, labels, avg_method='binary'):\n",
    "    predictions = estimator.predict(features)\n",
    "    acc_score = accuracy_score(labels, predictions)\n",
    "    rec_score = recall_score(labels, predictions, pos_label=1, average=avg_method)\n",
    "    prec_score = precision_score(labels, predictions, pos_label=1, average=avg_method)\n",
    "    return prec_score, rec_score, acc_score\n"
   ]
  },
  {
   "cell_type": "code",
   "execution_count": 11,
   "id": "6bd9c8f8",
   "metadata": {},
   "outputs": [],
   "source": [
    "# Function to train a model, track performance, and register it using MLflow\n",
    "def track_and_register_model(name, estimator, param_space, train_features, train_labels, val_features, val_labels):\n",
    "    with mlflow.start_run(run_name=name) as active_run:\n",
    "        # Perform hyperparameter tuning using GridSearchCV\n",
    "        grid_cv = GridSearchCV(estimator, param_space, scoring='recall', cv=5, n_jobs=-1)\n",
    "        grid_cv.fit(train_features, train_labels)\n",
    "        optimal_model = grid_cv.best_estimator_\n",
    "\n",
    "        # Assess the model's performance on the validation set\n",
    "        precision_val, recall_val, acc_val = assess_model_performance(optimal_model, val_features, val_labels)\n",
    "        auc_pr = compute_aucpr(optimal_model, val_features, val_labels)\n",
    "\n",
    "        print(f'Model: {name} | AUCPR: {auc_pr:.4f}, Precision: {precision_val:.4f}, Recall: {recall_val:.4f}, Accuracy: {acc_val:.4f}')\n",
    "\n",
    "        # Store model details and metrics in MLflow\n",
    "        mlflow.log_params(grid_cv.best_params_)\n",
    "        mlflow.log_metrics({\n",
    "            'precision': precision_val,\n",
    "            'recall': recall_val,\n",
    "            'accuracy': acc_val,\n",
    "            'aucpr': auc_pr\n",
    "        })\n",
    "\n",
    "        # Save and register the trained model\n",
    "        model_signature = infer_signature(val_features, optimal_model.predict(val_features))\n",
    "        mlflow.sklearn.log_model(optimal_model, 'model', signature=model_signature)\n",
    "        mlflow.set_tag('model_identifier', name)\n",
    "\n",
    "        model_location = f'runs:/{active_run.info.run_id}/model'\n",
    "        mlflow.register_model(model_uri=model_location, name=f'SpamClassifier_{name}')\n",
    "\n",
    "        return optimal_model\n"
   ]
  },
  {
   "cell_type": "code",
   "execution_count": 14,
   "id": "8ce28259",
   "metadata": {},
   "outputs": [
    {
     "name": "stdout",
     "output_type": "stream",
     "text": [
      "Model: log_reg_model | AUCPR: 0.9685, Precision: 1.0000, Recall: 0.6800, Accuracy: 0.9614\n"
     ]
    },
    {
     "name": "stderr",
     "output_type": "stream",
     "text": [
      "Successfully registered model 'SpamClassifier_log_reg_model'.\n",
      "Created version '1' of model 'SpamClassifier_log_reg_model'.\n"
     ]
    },
    {
     "name": "stdout",
     "output_type": "stream",
     "text": [
      "Model: random_forest_model | AUCPR: 0.9753, Precision: 1.0000, Recall: 0.8200, Accuracy: 0.9783\n"
     ]
    },
    {
     "name": "stderr",
     "output_type": "stream",
     "text": [
      "Successfully registered model 'SpamClassifier_random_forest_model'.\n",
      "Created version '1' of model 'SpamClassifier_random_forest_model'.\n"
     ]
    },
    {
     "name": "stdout",
     "output_type": "stream",
     "text": [
      "Model: svm_model | AUCPR: 0.9692, Precision: 0.9574, Recall: 0.9000, Accuracy: 0.9831\n"
     ]
    },
    {
     "name": "stderr",
     "output_type": "stream",
     "text": [
      "Successfully registered model 'SpamClassifier_svm_model'.\n",
      "Created version '1' of model 'SpamClassifier_svm_model'.\n"
     ]
    },
    {
     "name": "stdout",
     "output_type": "stream",
     "text": [
      "Model: naive_bayes_model | AUCPR: 0.9656, Precision: 1.0000, Recall: 0.9200, Accuracy: 0.9903\n"
     ]
    },
    {
     "name": "stderr",
     "output_type": "stream",
     "text": [
      "Successfully registered model 'SpamClassifier_naive_bayes_model'.\n",
      "Created version '1' of model 'SpamClassifier_naive_bayes_model'.\n"
     ]
    }
   ],
   "source": [
    "# Define model configurations\n",
    "model_configs = [\n",
    "    {\n",
    "        \"name\": \"log_reg_model\",\n",
    "        \"instance\": LogisticRegression(),\n",
    "        \"params\": {\"C\": [0.001, 0.01, 0.1, 1], \"penalty\": [\"l2\", \"none\"]}\n",
    "    },\n",
    "    {\n",
    "        \"name\": \"random_forest_model\",\n",
    "        \"instance\": RandomForestClassifier(random_state=0),\n",
    "        \"params\": {\"n_estimators\": [50, 100, 200], \"criterion\": [\"gini\", \"entropy\"], \"max_depth\": [None, 10, 20]}\n",
    "    },\n",
    "    {\n",
    "        \"name\": \"svm_model\",\n",
    "        \"instance\": SVC(probability=True),\n",
    "        \"params\": {\"C\": [0.1, 1, 10], \"gamma\": [\"scale\", \"auto\"], \"kernel\": [\"linear\", \"rbf\"]}\n",
    "    },\n",
    "    {\n",
    "        \"name\": \"naive_bayes_model\",\n",
    "        \"instance\": MultinomialNB(),\n",
    "        \"params\": {\"alpha\": [0.01, 0.1, 1, 10]}\n",
    "    }\n",
    "]\n",
    "\n",
    "# Train and track each model\n",
    "for config in model_configs:\n",
    "    track_and_register_model(\n",
    "        config[\"name\"],\n",
    "        config[\"instance\"],\n",
    "        config[\"params\"],\n",
    "        X_train,\n",
    "        train[\"target\"],\n",
    "        X_validation,\n",
    "        validation[\"target\"]\n",
    "    )\n"
   ]
  },
  {
   "cell_type": "markdown",
   "id": "85d7cf7f",
   "metadata": {},
   "source": [
    "## Now loading model from mlflow and getting metrics on test data"
   ]
  },
  {
   "cell_type": "code",
   "execution_count": 19,
   "id": "56b94607",
   "metadata": {},
   "outputs": [
    {
     "name": "stdout",
     "output_type": "stream",
     "text": [
      "Model: random_forest_model | AUCPR: 0.8715\n",
      "Model: log_reg_model | AUCPR: 0.8277\n",
      "Model: svm_model | AUCPR: 0.9171\n",
      "Model: naive_bayes_model | AUCPR: 0.9020\n"
     ]
    },
    {
     "data": {
      "image/png": "[encoded data removed]",
      "text/plain": [
       "<Figure size 800x600 with 1 Axes>"
      ]
     },
     "metadata": {},
     "output_type": "display_data"
    },
    {
     "data": {
      "image/png": "[encoded data removed]",
      "text/plain": [
       "<Figure size 800x500 with 1 Axes>"
      ]
     },
     "metadata": {},
     "output_type": "display_data"
    }
   ],
   "source": [
    "# Load all models from the specified MLflow run directory\n",
    "models = os.listdir('runs/211292194086779681')\n",
    "\n",
    "plt.figure(figsize=(8, 6))\n",
    "\n",
    "aucpr_scores = []\n",
    "model_names = []\n",
    "\n",
    "for path in models:\n",
    "    if path == 'meta.yaml':\n",
    "        continue\n",
    "\n",
    "    logged_model = f'runs:/{path}/model'\n",
    "    model = mlflow.pyfunc.load_model(logged_model)\n",
    "\n",
    "    # Extract model name from MLflow run metadata\n",
    "    model_name = mlflow.get_run(path).data.tags.get(\"mlflow.runName\", path)\n",
    "\n",
    "    # Get predictions and convert to binary\n",
    "    y_scores = model.predict(X_test)\n",
    "    y_scores = (y_scores == 1).astype(int)\n",
    "    \n",
    "    # Convert true targets\n",
    "    y_true = (test['target'] == 1).astype(int)\n",
    "\n",
    "    # Compute precision, recall, and AUCPR\n",
    "    precision, recall, _ = precision_recall_curve(y_true, y_scores)\n",
    "    aucpr = auc(recall, precision)\n",
    "\n",
    "    # Store values for histogram\n",
    "    aucpr_scores.append(aucpr)\n",
    "    model_names.append(model_name)\n",
    "\n",
    "    # Print model name and AUCPR score\n",
    "    print(f\"Model: {model_name} | AUCPR: {aucpr:.4f}\")\n",
    "\n",
    "    # Plot precision-recall curve\n",
    "    plt.plot(recall, precision, label=f\"{model_name} (AUCPR: {aucpr:.4f})\")\n",
    "\n",
    "# Final plot formatting\n",
    "plt.xlabel(\"Recall\")\n",
    "plt.ylabel(\"Precision\")\n",
    "plt.title(\"Precision-Recall Curve for Different Models\")\n",
    "plt.legend()\n",
    "plt.grid()\n",
    "plt.show()\n",
    "\n",
    "# Plot histogram of AUCPR scores\n",
    "plt.figure(figsize=(8, 5))\n",
    "plt.barh(model_names, aucpr_scores, color='skyblue', edgecolor='black')\n",
    "plt.xlabel(\"AUCPR Score\")\n",
    "plt.ylabel(\"Models\")\n",
    "plt.title(\"AUCPR Score Distribution\")\n",
    "plt.xlim(0, 1)  # AUCPR ranges between 0 and 1\n",
    "plt.grid(axis=\"x\", linestyle=\"--\", alpha=0.7)\n",
    "plt.show()\n"
   ]
  },
  {
   "cell_type": "markdown",
   "id": "5d87417a",
   "metadata": {},
   "source": [
    "## Support Vector Classifier is performing best\n"
   ]
  }
 ],
 "metadata": {
  "kernelspec": {
   "display_name": "Python 3 (ipykernel)",
   "language": "python",
   "name": "python3"
  },
  "language_info": {
   "codemirror_mode": {
    "name": "ipython",
    "version": 3
   },
   "file_extension": ".py",
   "mimetype": "text/x-python",
   "name": "python",
   "nbconvert_exporter": "python",
   "pygments_lexer": "ipython3",
   "version": "3.11.8"
  }
 },
 "nbformat": 4,
 "nbformat_minor": 5
}
