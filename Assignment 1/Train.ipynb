{
 "cells": [
  {
   "cell_type": "markdown",
   "id": "97f75b37",
   "metadata": {},
   "source": [
    "## Bhuvnesh Sahu \n",
    "### MDS202316"
   ]
  },
  {
   "cell_type": "code",
   "execution_count": 55,
   "id": "4df49cee",
   "metadata": {},
   "outputs": [],
   "source": [
    "import pandas as pd\n",
    "import numpy as np\n",
    "from sklearn.feature_extraction.text import TfidfVectorizer\n",
    "from sklearn.model_selection import GridSearchCV\n",
    "from sklearn.metrics import accuracy_score, precision_score, recall_score"
   ]
  },
  {
   "cell_type": "code",
   "execution_count": 47,
   "id": "2f4cea82",
   "metadata": {},
   "outputs": [],
   "source": [
    "import warnings\n",
    "warnings.filterwarnings(\"ignore\")"
   ]
  },
  {
   "cell_type": "code",
   "execution_count": 48,
   "id": "87b10699",
   "metadata": {},
   "outputs": [],
   "source": [
    "train = pd.read_csv('train.csv')\n",
    "validation = pd.read_csv('validation.csv')\n",
    "test = pd.read_csv('test.csv')"
   ]
  },
  {
   "cell_type": "code",
   "execution_count": 49,
   "id": "c8402c00",
   "metadata": {},
   "outputs": [],
   "source": [
    "train = train.dropna()\n",
    "validation = validation.dropna()\n",
    "test = test.dropna()"
   ]
  },
  {
   "cell_type": "code",
   "execution_count": 50,
   "id": "f45ec076",
   "metadata": {},
   "outputs": [
    {
     "data": {
      "text/html": [
       "<div>\n",
       "<style scoped>\n",
       "    .dataframe tbody tr th:only-of-type {\n",
       "        vertical-align: middle;\n",
       "    }\n",
       "\n",
       "    .dataframe tbody tr th {\n",
       "        vertical-align: top;\n",
       "    }\n",
       "\n",
       "    .dataframe thead th {\n",
       "        text-align: right;\n",
       "    }\n",
       "</style>\n",
       "<table border=\"1\" class=\"dataframe\">\n",
       "  <thead>\n",
       "    <tr style=\"text-align: right;\">\n",
       "      <th></th>\n",
       "      <th>target</th>\n",
       "      <th>num_characters</th>\n",
       "      <th>num_words</th>\n",
       "      <th>text</th>\n",
       "    </tr>\n",
       "  </thead>\n",
       "  <tbody>\n",
       "    <tr>\n",
       "      <th>0</th>\n",
       "      <td>0</td>\n",
       "      <td>80</td>\n",
       "      <td>18</td>\n",
       "      <td>yup hey then one day on fri we can ask miwa an...</td>\n",
       "    </tr>\n",
       "    <tr>\n",
       "      <th>1</th>\n",
       "      <td>0</td>\n",
       "      <td>34</td>\n",
       "      <td>8</td>\n",
       "      <td>have you ever had one foot befor</td>\n",
       "    </tr>\n",
       "    <tr>\n",
       "      <th>2</th>\n",
       "      <td>0</td>\n",
       "      <td>107</td>\n",
       "      <td>29</td>\n",
       "      <td>cud u tell ppl im gona b a bit l8 co 2 buse ha...</td>\n",
       "    </tr>\n",
       "    <tr>\n",
       "      <th>3</th>\n",
       "      <td>0</td>\n",
       "      <td>327</td>\n",
       "      <td>84</td>\n",
       "      <td>hey babe sorri i did get sooner gari can come ...</td>\n",
       "    </tr>\n",
       "    <tr>\n",
       "      <th>4</th>\n",
       "      <td>1</td>\n",
       "      <td>148</td>\n",
       "      <td>34</td>\n",
       "      <td>hi custom loyalti offer the new nokia6650 mobi...</td>\n",
       "    </tr>\n",
       "    <tr>\n",
       "      <th>...</th>\n",
       "      <td>...</td>\n",
       "      <td>...</td>\n",
       "      <td>...</td>\n",
       "      <td>...</td>\n",
       "    </tr>\n",
       "    <tr>\n",
       "      <th>3716</th>\n",
       "      <td>0</td>\n",
       "      <td>99</td>\n",
       "      <td>21</td>\n",
       "      <td>it hard to believ thing like thi all can say l...</td>\n",
       "    </tr>\n",
       "    <tr>\n",
       "      <th>3717</th>\n",
       "      <td>0</td>\n",
       "      <td>23</td>\n",
       "      <td>6</td>\n",
       "      <td>ok leav no need to ask</td>\n",
       "    </tr>\n",
       "    <tr>\n",
       "      <th>3718</th>\n",
       "      <td>1</td>\n",
       "      <td>159</td>\n",
       "      <td>27</td>\n",
       "      <td>u can win of music gift voucher everi week sta...</td>\n",
       "    </tr>\n",
       "    <tr>\n",
       "      <th>3719</th>\n",
       "      <td>0</td>\n",
       "      <td>113</td>\n",
       "      <td>30</td>\n",
       "      <td>huh hyde park not in mel ah opp got confus any...</td>\n",
       "    </tr>\n",
       "    <tr>\n",
       "      <th>3720</th>\n",
       "      <td>0</td>\n",
       "      <td>134</td>\n",
       "      <td>33</td>\n",
       "      <td>oh haha den we shld had went today too gee nvm...</td>\n",
       "    </tr>\n",
       "  </tbody>\n",
       "</table>\n",
       "<p>3718 rows × 4 columns</p>\n",
       "</div>"
      ],
      "text/plain": [
       "      target  num_characters  num_words  \\\n",
       "0          0              80         18   \n",
       "1          0              34          8   \n",
       "2          0             107         29   \n",
       "3          0             327         84   \n",
       "4          1             148         34   \n",
       "...      ...             ...        ...   \n",
       "3716       0              99         21   \n",
       "3717       0              23          6   \n",
       "3718       1             159         27   \n",
       "3719       0             113         30   \n",
       "3720       0             134         33   \n",
       "\n",
       "                                                   text  \n",
       "0     yup hey then one day on fri we can ask miwa an...  \n",
       "1                      have you ever had one foot befor  \n",
       "2     cud u tell ppl im gona b a bit l8 co 2 buse ha...  \n",
       "3     hey babe sorri i did get sooner gari can come ...  \n",
       "4     hi custom loyalti offer the new nokia6650 mobi...  \n",
       "...                                                 ...  \n",
       "3716  it hard to believ thing like thi all can say l...  \n",
       "3717                             ok leav no need to ask  \n",
       "3718  u can win of music gift voucher everi week sta...  \n",
       "3719  huh hyde park not in mel ah opp got confus any...  \n",
       "3720  oh haha den we shld had went today too gee nvm...  \n",
       "\n",
       "[3718 rows x 4 columns]"
      ]
     },
     "execution_count": 50,
     "metadata": {},
     "output_type": "execute_result"
    }
   ],
   "source": [
    "train"
   ]
  },
  {
   "cell_type": "code",
   "execution_count": 51,
   "id": "9f8a5ccf",
   "metadata": {},
   "outputs": [
    {
     "name": "stdout",
     "output_type": "stream",
     "text": [
      "\n",
      "Train label distribution:\n",
      "target\n",
      "0    3248\n",
      "1     470\n",
      "Name: count, dtype: int64\n",
      "\n",
      "Validation label distribution:\n",
      "target\n",
      "0    362\n",
      "1     52\n",
      "Name: count, dtype: int64\n",
      "\n",
      "Test label distribution:\n",
      "target\n",
      "0    902\n",
      "1    131\n",
      "Name: count, dtype: int64\n"
     ]
    }
   ],
   "source": [
    "for name, df in zip([\"Train\", \"Validation\", \"Test\"], [train, validation, test]):\n",
    "    print(f\"\\n{name} label distribution:\\n{df['target'].value_counts()}\")\n"
   ]
  },
  {
   "cell_type": "code",
   "execution_count": 52,
   "id": "892a67ec",
   "metadata": {},
   "outputs": [],
   "source": [
    "# Vectorizing the text data using TF-IDF\n",
    "def vectorize_data(train_data, validation_data, test_data):\n",
    "    vectorizer = TfidfVectorizer(stop_words='english', max_features=3000)\n",
    "    X_train = vectorizer.fit_transform(train_data['text']).toarray()\n",
    "    X_validation = vectorizer.transform(validation_data['text']).toarray()\n",
    "    X_test = vectorizer.transform(test_data['text']).toarray()\n",
    "    return X_train, X_validation, X_test, vectorizer\n",
    "\n",
    "X_train, X_validation, X_test, vectorizer = vectorize_data(train, validation, test)"
   ]
  },
  {
   "cell_type": "code",
   "execution_count": 53,
   "id": "5a991eb5",
   "metadata": {},
   "outputs": [],
   "source": [
    "train_extra_features = train[['num_characters', 'num_words']]\n",
    "validation_extra_features = validation[['num_characters', 'num_words']]\n",
    "test_extra_features = test[['num_characters', 'num_words']]\n",
    "\n",
    "# Horizontally stack the extracted features with the existing vectorized data\n",
    "X_train = np.hstack((X_train, train_extra_features))\n",
    "X_validation = np.hstack((X_validation, validation_extra_features))\n",
    "X_test = np.hstack((X_test, test_extra_features))"
   ]
  },
  {
   "cell_type": "code",
   "execution_count": 54,
   "id": "0a19c52d",
   "metadata": {},
   "outputs": [
    {
     "data": {
      "text/plain": [
       "(3718, 3002)"
      ]
     },
     "execution_count": 54,
     "metadata": {},
     "output_type": "execute_result"
    }
   ],
   "source": [
    "X_train.shape"
   ]
  },
  {
   "cell_type": "code",
   "execution_count": 56,
   "id": "d4501b1a",
   "metadata": {},
   "outputs": [],
   "source": [
    "from sklearn.linear_model import LogisticRegression\n",
    "from sklearn.naive_bayes import MultinomialNB\n",
    "from sklearn.tree import DecisionTreeClassifier\n",
    "from sklearn.neighbors import KNeighborsClassifier\n",
    "from sklearn.ensemble import RandomForestClassifier\n",
    "from sklearn.ensemble import AdaBoostClassifier"
   ]
  },
  {
   "cell_type": "code",
   "execution_count": 57,
   "id": "98b923b0",
   "metadata": {},
   "outputs": [],
   "source": [
    "knc = KNeighborsClassifier()\n",
    "mnb = MultinomialNB()\n",
    "dtc = DecisionTreeClassifier(max_depth=5)\n",
    "lrc = LogisticRegression(solver='liblinear', penalty='l1')\n",
    "rfc = RandomForestClassifier(n_estimators=50, random_state=2)\n",
    "abc = AdaBoostClassifier(n_estimators=50, random_state=2)"
   ]
  },
  {
   "cell_type": "code",
   "execution_count": 58,
   "id": "c27b958a",
   "metadata": {},
   "outputs": [],
   "source": [
    "clfs = {\n",
    "    'KN' : knc, \n",
    "    'NB': mnb, \n",
    "    'DT': dtc, \n",
    "    'LR': lrc, \n",
    "    'RF': rfc, \n",
    "    'AdaBoost': abc\n",
    "}"
   ]
  },
  {
   "cell_type": "markdown",
   "id": "9c3609a4",
   "metadata": {},
   "source": [
    "## Train on X_train and validate on X_validation"
   ]
  },
  {
   "cell_type": "code",
   "execution_count": 59,
   "id": "4436ee40",
   "metadata": {},
   "outputs": [],
   "source": [
    "def train_classifier(clf,X_train,y_train,X_test,y_test):\n",
    "    clf.fit(X_train,y_train)\n",
    "    y_pred = clf.predict(X_test)\n",
    "    accuracy = accuracy_score(y_test,y_pred)\n",
    "    precision = precision_score(y_test,y_pred)\n",
    "    \n",
    "    return accuracy,precision"
   ]
  },
  {
   "cell_type": "code",
   "execution_count": 40,
   "id": "0c599e67",
   "metadata": {},
   "outputs": [
    {
     "name": "stdout",
     "output_type": "stream",
     "text": [
      "For  KN\n",
      "Accuracy -  0.9299516908212561\n",
      "Precision -  0.7674418604651163\n",
      "For  NB\n",
      "Accuracy -  0.9202898550724637\n",
      "Precision -  0.9523809523809523\n",
      "For  DT\n",
      "Accuracy -  0.927536231884058\n",
      "Precision -  0.7115384615384616\n",
      "For  LR\n",
      "Accuracy -  0.9589371980676329\n",
      "Precision -  0.972972972972973\n",
      "For  RF\n",
      "Accuracy -  0.9685990338164251\n",
      "Precision -  1.0\n",
      "For  AdaBoost\n",
      "Accuracy -  0.961352657004831\n",
      "Precision -  1.0\n"
     ]
    }
   ],
   "source": [
    "accuracy_scores = []\n",
    "precision_scores = []\n",
    "\n",
    "for name,clf in clfs.items():\n",
    "    \n",
    "    current_accuracy,current_precision = train_classifier(clf, X_train,train['target'],X_validation,validation['target'])\n",
    "    \n",
    "    print(\"For \",name)\n",
    "    print(\"Accuracy - \",current_accuracy)\n",
    "    print(\"Precision - \",current_precision)\n",
    "    \n",
    "    accuracy_scores.append(current_accuracy)\n",
    "    precision_scores.append(current_precision)"
   ]
  },
  {
   "cell_type": "code",
   "execution_count": 42,
   "id": "0d92f4f0",
   "metadata": {
    "scrolled": true
   },
   "outputs": [
    {
     "data": {
      "text/html": [
       "<div>\n",
       "<style scoped>\n",
       "    .dataframe tbody tr th:only-of-type {\n",
       "        vertical-align: middle;\n",
       "    }\n",
       "\n",
       "    .dataframe tbody tr th {\n",
       "        vertical-align: top;\n",
       "    }\n",
       "\n",
       "    .dataframe thead th {\n",
       "        text-align: right;\n",
       "    }\n",
       "</style>\n",
       "<table border=\"1\" class=\"dataframe\">\n",
       "  <thead>\n",
       "    <tr style=\"text-align: right;\">\n",
       "      <th></th>\n",
       "      <th>Algorithm</th>\n",
       "      <th>Accuracy</th>\n",
       "      <th>Precision</th>\n",
       "    </tr>\n",
       "  </thead>\n",
       "  <tbody>\n",
       "    <tr>\n",
       "      <th>4</th>\n",
       "      <td>RF</td>\n",
       "      <td>0.968599</td>\n",
       "      <td>1.000000</td>\n",
       "    </tr>\n",
       "    <tr>\n",
       "      <th>5</th>\n",
       "      <td>AdaBoost</td>\n",
       "      <td>0.961353</td>\n",
       "      <td>1.000000</td>\n",
       "    </tr>\n",
       "    <tr>\n",
       "      <th>3</th>\n",
       "      <td>LR</td>\n",
       "      <td>0.958937</td>\n",
       "      <td>0.972973</td>\n",
       "    </tr>\n",
       "    <tr>\n",
       "      <th>1</th>\n",
       "      <td>NB</td>\n",
       "      <td>0.920290</td>\n",
       "      <td>0.952381</td>\n",
       "    </tr>\n",
       "    <tr>\n",
       "      <th>0</th>\n",
       "      <td>KN</td>\n",
       "      <td>0.929952</td>\n",
       "      <td>0.767442</td>\n",
       "    </tr>\n",
       "    <tr>\n",
       "      <th>2</th>\n",
       "      <td>DT</td>\n",
       "      <td>0.927536</td>\n",
       "      <td>0.711538</td>\n",
       "    </tr>\n",
       "  </tbody>\n",
       "</table>\n",
       "</div>"
      ],
      "text/plain": [
       "  Algorithm  Accuracy  Precision\n",
       "4        RF  0.968599   1.000000\n",
       "5  AdaBoost  0.961353   1.000000\n",
       "3        LR  0.958937   0.972973\n",
       "1        NB  0.920290   0.952381\n",
       "0        KN  0.929952   0.767442\n",
       "2        DT  0.927536   0.711538"
      ]
     },
     "execution_count": 42,
     "metadata": {},
     "output_type": "execute_result"
    }
   ],
   "source": [
    "performance_df = pd.DataFrame({'Algorithm':clfs.keys(),'Accuracy':accuracy_scores,'Precision':precision_scores}).sort_values('Precision',ascending=False)\n",
    "performance_df"
   ]
  },
  {
   "cell_type": "markdown",
   "id": "30dd5714",
   "metadata": {},
   "source": [
    "## Hyper-parameter Tuning"
   ]
  },
  {
   "cell_type": "code",
   "execution_count": 46,
   "id": "7fa4aebf",
   "metadata": {},
   "outputs": [
    {
     "name": "stdout",
     "output_type": "stream",
     "text": [
      "Best RF Parameters: {'max_depth': None, 'min_samples_split': 10, 'n_estimators': 100}\n",
      "Best RF Accuracy: 0.9714919897538316\n",
      "\n",
      "Best AdaBoost Parameters: {'learning_rate': 1, 'n_estimators': 200}\n",
      "Best AdaBoost Accuracy: 0.9717597215589227\n",
      "\n",
      "Best LR Parameters: {'C': 10, 'penalty': 'l2', 'solver': 'liblinear'}\n",
      "Best LR Accuracy: 0.9779446880562672\n"
     ]
    }
   ],
   "source": [
    "# Define parameter grids for tuning\n",
    "param_grid_rf = {\n",
    "    'n_estimators': [100, 200, 300],\n",
    "    'max_depth': [None, 10, 20],\n",
    "    'min_samples_split': [2, 5, 10]\n",
    "}\n",
    "\n",
    "param_grid_adaboost = {\n",
    "    'n_estimators': [50, 100, 200],\n",
    "    'learning_rate': [0.01, 0.1, 1]\n",
    "}\n",
    "\n",
    "param_grid_lr = {\n",
    "    'C': [0.01, 0.1, 1, 10],\n",
    "    'penalty': ['l1', 'l2'],\n",
    "    'solver': ['liblinear']\n",
    "}\n",
    "\n",
    "# Perform hyperparameter tuning\n",
    "grid_rf = GridSearchCV(rfc, param_grid_rf, cv=5, scoring='accuracy', n_jobs=-1)\n",
    "grid_adaboost = GridSearchCV(abc, param_grid_adaboost, cv=5, scoring='accuracy', n_jobs=-1)\n",
    "grid_lr = GridSearchCV(lrc, param_grid_lr, cv=5, scoring='accuracy', n_jobs=-1)\n",
    "\n",
    "# Fit models on training data\n",
    "grid_rf.fit(X_train, train['target'])\n",
    "grid_adaboost.fit(X_train, train['target'])\n",
    "grid_lr.fit(X_train, train['target'])\n",
    "\n",
    "# Print best parameters and accuracy\n",
    "print(\"Best RF Parameters:\", grid_rf.best_params_)\n",
    "print(\"Best RF Accuracy:\", grid_rf.best_score_)\n",
    "\n",
    "print(\"\\nBest AdaBoost Parameters:\", grid_adaboost.best_params_)\n",
    "print(\"Best AdaBoost Accuracy:\", grid_adaboost.best_score_)\n",
    "\n",
    "print(\"\\nBest LR Parameters:\", grid_lr.best_params_)\n",
    "print(\"Best LR Accuracy:\", grid_lr.best_score_)\n"
   ]
  },
  {
   "cell_type": "markdown",
   "id": "4ee3750b",
   "metadata": {},
   "source": [
    "## Scores on Test data"
   ]
  },
  {
   "cell_type": "code",
   "execution_count": 61,
   "id": "854f8cbf",
   "metadata": {},
   "outputs": [
    {
     "name": "stdout",
     "output_type": "stream",
     "text": [
      "========================================\n",
      " Logistic Regression Performance Metrics \n",
      "========================================\n",
      "Accuracy  : 0.9777\n",
      "Precision : 0.9500\n",
      "Recall    : 0.8702\n",
      "========================================\n"
     ]
    }
   ],
   "source": [
    "lr = LogisticRegression(C=10, penalty='l2', solver='liblinear')\n",
    "\n",
    "# Train the model\n",
    "lr.fit(X_train, train['target'])\n",
    "\n",
    "# Make predictions\n",
    "y_pred = lr.predict(X_test)\n",
    "\n",
    "# Calculate metrics\n",
    "accuracy = accuracy_score(test['target'], y_pred)\n",
    "precision = precision_score(test['target'], y_pred)\n",
    "recall = recall_score(test['target'], y_pred)\n",
    "\n",
    "# Print results beautifully\n",
    "print(\"=\" * 40)\n",
    "print(\" Logistic Regression Performance Metrics \")\n",
    "print(\"=\" * 40)\n",
    "print(f\"Accuracy  : {accuracy:.4f}\")\n",
    "print(f\"Precision : {precision:.4f}\")\n",
    "print(f\"Recall    : {recall:.4f}\")\n",
    "print(\"=\" * 40)"
   ]
  },
  {
   "cell_type": "code",
   "execution_count": null,
   "id": "f65fd4f1",
   "metadata": {},
   "outputs": [],
   "source": []
  }
 ],
 "metadata": {
  "kernelspec": {
   "display_name": "Python 3 (ipykernel)",
   "language": "python",
   "name": "python3"
  },
  "language_info": {
   "codemirror_mode": {
    "name": "ipython",
    "version": 3
   },
   "file_extension": ".py",
   "mimetype": "text/x-python",
   "name": "python",
   "nbconvert_exporter": "python",
   "pygments_lexer": "ipython3",
   "version": "3.11.8"
  }
 },
 "nbformat": 4,
 "nbformat_minor": 5
}
